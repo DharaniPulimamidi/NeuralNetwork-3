{
 "cells": [
  {
   "cell_type": "code",
   "execution_count": 3,
   "id": "d835090e",
   "metadata": {},
   "outputs": [
    {
     "name": "stdout",
     "output_type": "stream",
     "text": [
      "[[ 2.58980278  6.72877271 11.64488    12.7190762  10.41606265]\n",
      " [ 4.23740574  4.10719584  2.23907936  1.8941161   2.79597502]\n",
      " [11.55886423 12.14923178  5.94108837  4.40264544 12.80449461]\n",
      " [ 3.54114218  6.53737812 17.84555532 16.66465677 12.74463565]]\n",
      "[[ 2.58980278  6.72877271 11.64488     0.         10.41606265]\n",
      " [ 0.          4.10719584  2.23907936  1.8941161   2.79597502]\n",
      " [11.55886423 12.14923178  5.94108837  4.40264544  0.        ]\n",
      " [ 3.54114218  6.53737812  0.         16.66465677 12.74463565]]\n"
     ]
    }
   ],
   "source": [
    "import numpy as np\n",
    "#create random vector of size 20 with float values between 1 and 20\n",
    "x = np.random.uniform(1,20,20)\n",
    "#Reshape array to 4 by 5\n",
    "matrix = x.reshape(4,5)\n",
    "print(matrix)\n",
    "#Replace max in each row by 0 using np.where()\n",
    "matrix = np.where(matrix == np.max(matrix, axis=1 ,keepdims=True),0,matrix)\n",
    "print(matrix)"
   ]
  },
  {
   "cell_type": "code",
   "execution_count": null,
   "id": "d2116e0f",
   "metadata": {},
   "outputs": [],
   "source": []
  }
 ],
 "metadata": {
  "kernelspec": {
   "display_name": "Python 3 (ipykernel)",
   "language": "python",
   "name": "python3"
  },
  "language_info": {
   "codemirror_mode": {
    "name": "ipython",
    "version": 3
   },
   "file_extension": ".py",
   "mimetype": "text/x-python",
   "name": "python",
   "nbconvert_exporter": "python",
   "pygments_lexer": "ipython3",
   "version": "3.11.1"
  }
 },
 "nbformat": 4,
 "nbformat_minor": 5
}
